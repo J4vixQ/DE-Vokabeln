{
 "cells": [
  {
   "cell_type": "code",
   "execution_count": 1,
   "id": "93d7bfb9",
   "metadata": {},
   "outputs": [],
   "source": [
    "def extract_preview(input_path, output_path, limit=500):\n",
    "    with open(input_path, 'r', encoding='utf-8', errors='ignore') as infile:\n",
    "        content = infile.read(limit)\n",
    "    with open(output_path, 'w', encoding='utf-8') as outfile:\n",
    "        outfile.write(content)\n",
    "\n",
    "extract_preview('de.txt', 'preview.txt', limit=500)"
   ]
  },
  {
   "cell_type": "code",
   "execution_count": null,
   "id": "81cfc170",
   "metadata": {},
   "outputs": [
    {
     "name": "stdout",
     "output_type": "stream",
     "text": [
      "✅ Done. Total parts: 142\n"
     ]
    }
   ],
   "source": [
    "def split_txt_by_lines(input_file, lines_per_file=1000000):\n",
    "    with open(input_file, 'r', encoding='utf-8', errors='ignore') as infile:\n",
    "        for i in range(1000):  # at most 1k files\n",
    "            outname = f'public/satz/part_{i+1}.txt'\n",
    "            with open(outname, 'w', encoding='utf-8') as outfile:\n",
    "                for _ in range(lines_per_file):\n",
    "                    line = infile.readline()\n",
    "                    if not line:\n",
    "                        print(f\"✅ Done. Total parts: {i+1}\")\n",
    "                        return\n",
    "                    outfile.write(line)\n",
    "\n",
    "split_txt_by_lines('de.txt', lines_per_file=1000000)  # 1M lines per file"
   ]
  }
 ],
 "metadata": {
  "kernelspec": {
   "display_name": "Python 3",
   "language": "python",
   "name": "python3"
  },
  "language_info": {
   "codemirror_mode": {
    "name": "ipython",
    "version": 3
   },
   "file_extension": ".py",
   "mimetype": "text/x-python",
   "name": "python",
   "nbconvert_exporter": "python",
   "pygments_lexer": "ipython3",
   "version": "3.13.5"
  }
 },
 "nbformat": 4,
 "nbformat_minor": 5
}
